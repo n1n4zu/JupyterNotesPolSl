{
 "cells": [
  {
   "cell_type": "markdown",
   "id": "d885ec71-5663-4f96-ab5d-2abe92e984f6",
   "metadata": {},
   "source": [
    "<h1><b>Operator warunkowy ?</b></h1>"
   ]
  },
  {
   "cell_type": "markdown",
   "id": "5735efc5-1669-43af-a431-c19ad84c870c",
   "metadata": {},
   "source": [
    "<h4>Operator warunkowy ? jest używany gdy mamy prosty warunek i proste wartości zwracane dla true i false.</h4>"
   ]
  },
  {
   "cell_type": "markdown",
   "id": "ada0a498-18d3-4809-a008-932b54ef398d",
   "metadata": {},
   "source": [
    "<h4>warunek ? instrukcjaPrawda : instrukcjaFalsz</h4>"
   ]
  },
  {
   "cell_type": "code",
   "execution_count": 1,
   "id": "1f7fb637-5b2b-42e8-b2e3-8d7888c910d7",
   "metadata": {},
   "outputs": [
    {
     "data": {
      "text/markdown": [
       "Podaj liczbę: "
      ]
     },
     "metadata": {},
     "output_type": "display_data"
    },
    {
     "name": "stdin",
     "output_type": "stream",
     "text": [
      " 3\n"
     ]
    },
    {
     "data": {
      "text/markdown": [
       "Liczba 3 jest dodatnia\n",
       "\n"
      ]
     },
     "metadata": {},
     "output_type": "display_data"
    }
   ],
   "source": [
    "// Przykład 1\n",
    "#include <iostream>\n",
    "using namespace std;\n",
    "\n",
    "double x;\n",
    "cout << \"Podaj liczbę: \";\n",
    "cin >> x;\n",
    "cout << \"Liczba \" << x << \" jest \";\n",
    "cout << (x > 0 ? \"dodatnia\" : \"niedodatnia\") << endl;"
   ]
  },
  {
   "cell_type": "code",
   "execution_count": 2,
   "id": "e9c62ed4-b86d-47d5-8255-97ed2c0f5f99",
   "metadata": {},
   "outputs": [
    {
     "data": {
      "text/markdown": [
       "Podaj liczbę x: "
      ]
     },
     "metadata": {},
     "output_type": "display_data"
    },
    {
     "name": "stdin",
     "output_type": "stream",
     "text": [
      " 3\n"
     ]
    },
    {
     "data": {
      "text/markdown": [
       "Podaj liczbę y: "
      ]
     },
     "metadata": {},
     "output_type": "display_data"
    },
    {
     "name": "stdin",
     "output_type": "stream",
     "text": [
      " 3\n"
     ]
    },
    {
     "data": {
      "text/markdown": [
       "3 jest równy od 3\n",
       "\n"
      ]
     },
     "metadata": {},
     "output_type": "display_data"
    }
   ],
   "source": [
    "// Przykład 2\n",
    "#include <iostream>\n",
    "using namespace std;\n",
    "\n",
    "double x, y;\n",
    "cout << \"Podaj liczbę x: \";\n",
    "cin >> x;\n",
    "cout << \"Podaj liczbę y: \";\n",
    "cin >> y;\n",
    "cout << x << \" jest \";\n",
    "cout << (x > y ? \"większe\" : (x < y ? \"mniejszy\" : \"równy\"));\n",
    "cout << \" od \" << y << endl;"
   ]
  },
  {
   "cell_type": "code",
   "execution_count": null,
   "id": "d44f3514-2c2a-425a-84e3-23401d4e4af5",
   "metadata": {},
   "outputs": [],
   "source": []
  }
 ],
 "metadata": {
  "kernelspec": {
   "display_name": "C++14",
   "language": "c++",
   "name": "cpp14"
  },
  "language_info": {
   "file_extension": ".cpp",
   "mimetype": "text/markdown",
   "name": "text/markdown"
  }
 },
 "nbformat": 4,
 "nbformat_minor": 5
}
