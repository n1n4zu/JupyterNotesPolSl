{
 "cells": [
  {
   "cell_type": "markdown",
   "id": "26fe3d45-ed4a-4ec0-bbfe-36a37a2e505b",
   "metadata": {},
   "source": [
    "<h1><b>Przeładowanie nazw funkcji</b></h1>"
   ]
  },
  {
   "cell_type": "markdown",
   "id": "fd725acd-01d1-4da5-b228-4c660190318b",
   "metadata": {},
   "source": [
    "<h4>W C++ możemy stworzyć kilka funckji o tej samej nazwie, ale innych zwracanych typach lub innych typach zmiennych.</h4>"
   ]
  },
  {
   "cell_type": "code",
   "execution_count": 3,
   "id": "4a5b3681-df0d-4bfa-9a07-c6dd4552a744",
   "metadata": {},
   "outputs": [
    {
     "data": {
      "text/markdown": [
       "liczba: 1\n",
       "\n",
       "Znak: A\n",
       "\n",
       "Liczba1: 2.1\n",
       "\n",
       "Liczba2: 4\n",
       "\n",
       "Obie zmiennoprzecinkowe\n",
       "\n",
       "Liczba1: 3.14\n",
       "\n",
       "Liczba2: 2.72\n",
       "\n"
      ]
     },
     "metadata": {},
     "output_type": "display_data"
    }
   ],
   "source": [
    "#include <iostream>\n",
    "using namespace std;\n",
    "\n",
    "void wypisz(int n) { cout << \"liczba: \" << n << endl; }\n",
    "void wypisz(char n) { cout << \"Znak: \" << n << endl; }\n",
    "void wypisz(double x, int n) {\n",
    "    cout << \"Liczba1: \" << x << endl;\n",
    "    cout << \"Liczba2: \" << n << endl;\n",
    "}\n",
    "void wypisz(double x1, double x2) {\n",
    "    cout << \"Obie zmiennoprzecinkowe\" << endl;\n",
    "    cout << \"Liczba1: \" << x1 << endl;\n",
    "    cout << \"Liczba2: \" << x2 << endl;\n",
    "}\n",
    "\n",
    "int main() {\n",
    "    wypisz(1);\n",
    "    wypisz('A');\n",
    "    wypisz(2.1, 4);\n",
    "    wypisz(3.14, 2.72);\n",
    "\n",
    "    return 0;\n",
    "}"
   ]
  },
  {
   "cell_type": "code",
   "execution_count": null,
   "id": "10962a4f-4057-4a2d-b2da-c030d816cf59",
   "metadata": {},
   "outputs": [],
   "source": []
  }
 ],
 "metadata": {
  "kernelspec": {
   "display_name": "C++14",
   "language": "c++",
   "name": "cpp14"
  },
  "language_info": {
   "file_extension": ".cpp",
   "mimetype": "text/markdown",
   "name": "text/markdown"
  }
 },
 "nbformat": 4,
 "nbformat_minor": 5
}
