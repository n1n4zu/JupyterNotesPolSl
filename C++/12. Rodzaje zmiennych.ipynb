{
 "cells": [
  {
   "cell_type": "markdown",
   "id": "99c065d5-cda8-42e8-a5c5-86d2b3b455bc",
   "metadata": {},
   "source": [
    "<h1><b>Rodzaje zmiennych</b></h1>"
   ]
  },
  {
   "cell_type": "markdown",
   "id": "bbd3cda6-847b-4a47-b35d-e78784d52ca7",
   "metadata": {},
   "source": [
    "<h2><b>1. Zmienne lokalne</b></h2>"
   ]
  },
  {
   "cell_type": "markdown",
   "id": "b0af0afa-38ea-4abe-a68c-362ca61dfb0e",
   "metadata": {},
   "source": [
    "<h4>Zmienne lokalne są tworzone wewnątrz funkcji, instrukcji warunkowych i pętli. Nie są one widoczne poza swoim zakresem, np. zmienna lokalna pętli nie jest widoczna poza pętlą.</h4>"
   ]
  },
  {
   "cell_type": "code",
   "execution_count": 1,
   "id": "b5a22de7-a705-4074-ae60-c97094e6e2d6",
   "metadata": {},
   "outputs": [],
   "source": [
    "int main () {\n",
    "    int zmienna; // zmienna lokalna\n",
    "    return 0;\n",
    "}"
   ]
  },
  {
   "cell_type": "markdown",
   "id": "9de4c0e1-7afb-46b9-ad83-9414181a9169",
   "metadata": {},
   "source": [
    "<h2><b>2. Zmienne globalne</b></h2>"
   ]
  },
  {
   "cell_type": "markdown",
   "id": "e683c0eb-f196-4ec7-ab2e-5056dca135ba",
   "metadata": {},
   "source": [
    "<h4>Zmienne globalne są tworzone poza funkcją main. Są one widoczne w obrębie całego pliku.</h4>"
   ]
  },
  {
   "cell_type": "code",
   "execution_count": 2,
   "id": "68e1f6ee-562d-41d4-8c84-c703bbb2ad24",
   "metadata": {},
   "outputs": [],
   "source": [
    "int zmienna; // zmienna globalne\n",
    "\n",
    "int main () {\n",
    "    // kod\n",
    "    return 0;\n",
    "}"
   ]
  },
  {
   "cell_type": "markdown",
   "id": "73fb148f-ba28-4332-a666-80d7892817bd",
   "metadata": {},
   "source": [
    "<h2><b>3. Przesłanianie nazw</b></h2>"
   ]
  },
  {
   "cell_type": "markdown",
   "id": "88cabeab-6d15-4862-8437-5c655545a657",
   "metadata": {},
   "source": [
    "<h4>Przesłanianie nazw to nadawanie takich samych nazw zmiennym w różnym zakresie, np. przesłanianie zmiennej globalnej w instrukcji warunkowej.</h4>"
   ]
  },
  {
   "cell_type": "code",
   "execution_count": 4,
   "id": "0a9ddd54-1b8c-4234-8342-6e2022ede89c",
   "metadata": {},
   "outputs": [
    {
     "data": {
      "text/markdown": [
       "2\n",
       "\n",
       "15\n",
       "\n",
       "8\n",
       "\n"
      ]
     },
     "metadata": {},
     "output_type": "display_data"
    }
   ],
   "source": [
    "#include <iostream>\n",
    "\n",
    "using namespace std;\n",
    "\n",
    "int zmienna = 8;\n",
    "\n",
    "int main () {\n",
    "    double zmienna = 2;\n",
    "    cout << zmienna << endl;\n",
    "    zmienna = 15;\n",
    "    cout << zmienna << endl;\n",
    "    cout << ::zmienna << endl; // odwołanie do zmiennej globalnej\n",
    "    return 0;\n",
    "}"
   ]
  },
  {
   "cell_type": "markdown",
   "id": "f1c81df7-6452-41b3-97f5-54377eaabdd7",
   "metadata": {},
   "source": [
    "<h2><b>4. Zmienne statyczne</b></h2>"
   ]
  },
  {
   "cell_type": "markdown",
   "id": "e58b5595-0298-478c-a69b-32bfee72bbd8",
   "metadata": {},
   "source": [
    "<h4>Zmienne statyczne są przechowywane w obszarze pamięci statycznej, oznacza to że wartość statycznej zmiennej nie jest usuwana nawet po zakończeniu danego bloku kodu.</h4>"
   ]
  },
  {
   "cell_type": "code",
   "execution_count": 10,
   "id": "7d8687f3-5286-4f9d-93ca-09d428e8ed6c",
   "metadata": {},
   "outputs": [
    {
     "data": {
      "text/markdown": [
       "licznik = 1\n",
       "\n",
       "w = 0\n",
       "\n",
       "licznik = 2\n",
       "\n",
       "w = 1\n",
       "\n",
       "licznik = 3\n",
       "\n",
       "w = 4\n",
       "\n",
       "licznik = 4\n",
       "\n",
       "w = 9\n",
       "\n",
       "licznik = 5\n",
       "\n",
       "w = 16\n",
       "\n",
       "licznik = 6\n",
       "\n",
       "w = 25\n",
       "\n",
       "licznik = 7\n",
       "\n",
       "w = 36\n",
       "\n",
       "licznik = 8\n",
       "\n",
       "w = 49\n",
       "\n",
       "licznik = 9\n",
       "\n",
       "w = 64\n",
       "\n"
      ]
     },
     "metadata": {},
     "output_type": "display_data"
    }
   ],
   "source": [
    "#include <iostream>\n",
    "\n",
    "using namespace std;\n",
    "\n",
    "double funkcjaCelu (int wartosc) {\n",
    "    static int licznik_wywolan_funkcji;\n",
    "    licznik_wywolan_funkcji++;\n",
    "    double wynik = 0;\n",
    "    wynik += wartosc * wartosc;\n",
    "    cout << \"licznik = \" << licznik_wywolan_funkcji << endl;\n",
    "    return wynik;\n",
    "}\n",
    "\n",
    "int main () {\n",
    "    double w;\n",
    "    for (int i = 0; i < 9; i++) {\n",
    "        w = funkcjaCelu(i);\n",
    "        cout << \"w = \" << w << endl;\n",
    "    }\n",
    "}"
   ]
  },
  {
   "cell_type": "code",
   "execution_count": null,
   "id": "369309c3-d9d1-4992-8806-6504f65ac631",
   "metadata": {},
   "outputs": [],
   "source": []
  }
 ],
 "metadata": {
  "kernelspec": {
   "display_name": "C++14",
   "language": "c++",
   "name": "cpp14"
  },
  "language_info": {
   "file_extension": ".cpp",
   "mimetype": "text/markdown",
   "name": "text/markdown"
  }
 },
 "nbformat": 4,
 "nbformat_minor": 5
}
