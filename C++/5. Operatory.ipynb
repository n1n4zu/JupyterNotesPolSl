{
 "cells": [
  {
   "cell_type": "markdown",
   "id": "6497b740-a8c9-4804-9031-32def95e2677",
   "metadata": {},
   "source": [
    "<h1><b>Operatory</b></h1>"
   ]
  },
  {
   "cell_type": "markdown",
   "id": "2b29d361-8fa5-4f7a-b75f-48361a43583d",
   "metadata": {},
   "source": [
    "<h2><b>1. Operatory arytmetyczne</b></h2>"
   ]
  },
  {
   "cell_type": "markdown",
   "id": "91bfaf31-c233-41ca-9211-9baba14051fb",
   "metadata": {},
   "source": [
    "<h4>W C++ wyróżniamy 5 operatorów arytmetycznych, są to:<br>\n",
    "<ul>\n",
    "    <li>+ dodawanie a+b</li>\n",
    "    <li>- odejmowanie a-b</li>\n",
    "    <li>* mnożenie a*b</li>\n",
    "    <li>/ dzielenie a/b</li>\n",
    "    <li>% reszta z dzielenia (modulo) a%b</li>\n",
    "</ul>\n",
    "</h4>"
   ]
  },
  {
   "cell_type": "markdown",
   "id": "3567130e-f65d-4dfe-8850-8260bfdde049",
   "metadata": {},
   "source": [
    "<h2><b>2. Operator przypisania</b></h2>"
   ]
  },
  {
   "cell_type": "markdown",
   "id": "418acc09-e2cd-4bee-b6b4-8c9d2c83c5b7",
   "metadata": {},
   "source": [
    "<h4>Do przypisywania wartości do zmiennej służy znak \"=\".</h4>"
   ]
  },
  {
   "cell_type": "code",
   "execution_count": 1,
   "id": "774a1fd0-907b-4b2b-8d92-9135fc6a2bc1",
   "metadata": {},
   "outputs": [],
   "source": [
    "int a = 10; // Przypisanie liczby 10 do zmiennej a"
   ]
  },
  {
   "cell_type": "markdown",
   "id": "6a43f922-9d21-42ef-91e9-21a1e9318cf8",
   "metadata": {},
   "source": [
    "<h2><b>3. Złożone operatory przypisania</b></h2>"
   ]
  },
  {
   "cell_type": "markdown",
   "id": "ad1f516e-d055-496d-bcf7-d0032634c98b",
   "metadata": {},
   "source": [
    "<h4>W C++ każdy operator arytmetyczny można połączyć z operatorem przypisania tworząc działanie wraz z przypisaniem:\n",
    "<ul>\n",
    "    <li>a += 5 <=> a = a + 5</li>\n",
    "    <li>a -= 5 <=> a = a - 5</li>\n",
    "    <li>a *= 5 <=> a = a * 5</li>\n",
    "    <li>a /= 5 <=> a = a / 5</li>\n",
    "    <li>a %= 5 <=> a = a % 5</li>\n",
    "</ul>\n",
    "</h4>"
   ]
  },
  {
   "cell_type": "code",
   "execution_count": 2,
   "id": "37a17e25-e126-473f-832e-398b076e4580",
   "metadata": {},
   "outputs": [],
   "source": [
    "int a = 3;\n",
    "a += 5; // a = 8\n",
    "a /= 2; // a = 4"
   ]
  },
  {
   "cell_type": "markdown",
   "id": "920b80aa-88b2-4528-bd4e-c2560ff670f0",
   "metadata": {},
   "source": [
    "<h2><b>4. Operatory inkrementacji i dekrementacji</b></h2>"
   ]
  },
  {
   "cell_type": "markdown",
   "id": "89711a58-33b7-4e84-8f2b-7a060ae2a9bb",
   "metadata": {},
   "source": [
    "<h4>W D++ możemy dokonać inkrementacji i dekrementacji w zależności od umiejscowienia operatorów:\n",
    "<ul>\n",
    "    <li>postinkrementacja a++ -> wartość zostaje zwiększona o 1 po wykonaniu operacji</li>\n",
    "    <li>preinkrementacja ++a -> wartość zostaje zwiększona o 1 przed wykonaniem operacji</li>\n",
    "    <li>postdekrementacja  a-- -> wartość zostaje zmniejszona o 1 po wykonaniu operacji</li>\n",
    "    <li>predekrementacja --a -> wartość zostaje zmniejszona o 1 przed wykonaniem operacji</li>\n",
    "</ul>\n",
    "</h4>"
   ]
  },
  {
   "cell_type": "code",
   "execution_count": 3,
   "id": "a4e8f929-69b6-4c04-a294-b9d1da345988",
   "metadata": {},
   "outputs": [
    {
     "data": {
      "text/markdown": [
       "1\n",
       "\n",
       "2\n",
       "\n",
       "3\n",
       "\n",
       "3\n",
       "\n",
       "3\n",
       "\n",
       "2\n",
       "\n",
       "1\n",
       "\n",
       "1"
      ]
     },
     "metadata": {},
     "output_type": "display_data"
    }
   ],
   "source": [
    "#include <iostream>\n",
    "using namespace std;\n",
    "\n",
    "int a = 1;\n",
    "\n",
    "cout << a++ << endl; // 1\n",
    "cout << a << endl;   // 2\n",
    "cout << ++a << endl; // 3\n",
    "cout << a << endl;   // 3\n",
    "cout << a-- << endl; // 3\n",
    "cout << a << endl;   // 2\n",
    "cout << --a << endl; // 1\n",
    "cout << a;           // 1"
   ]
  },
  {
   "cell_type": "markdown",
   "id": "6911de5d-6c40-4bca-956c-ba11853f25d6",
   "metadata": {},
   "source": [
    "<h2><b>5. Operatory relacyjne</b></h2>"
   ]
  },
  {
   "cell_type": "markdown",
   "id": "45807b3e-bf0c-4859-81d3-8fd65e34fc4c",
   "metadata": {},
   "source": [
    "<h4>W C++ istnieją operatory, które pozwalają na porównanie wartości między zmiennymi, są to:\n",
    "<ul>\n",
    "    <li>== równe a == b</li>\n",
    "    <li>!= różne a != b</li>\n",
    "    <li>> większy a > b</li>\n",
    "    <li>>= większy lub równy a >= b</li>\n",
    "    <li>&lt mniejszy a &lt b </li>\n",
    "    <li><= mniejszy lub równy a <= b</li>\n",
    "</ul>\n",
    "</h4>"
   ]
  },
  {
   "cell_type": "code",
   "execution_count": 4,
   "id": "40e1ee86-b1ce-496b-a82f-0fe8ceec271e",
   "metadata": {},
   "outputs": [
    {
     "data": {
      "text/markdown": [
       "1\n",
       "\n",
       "1\n",
       "\n"
      ]
     },
     "metadata": {},
     "output_type": "display_data"
    }
   ],
   "source": [
    "#include <iostream>\n",
    "using namespace std;\n",
    "\n",
    "int a = 5, b = 7;\n",
    "\n",
    "cout << (a < b) << endl; // 1\n",
    "cout << (b > a) << endl; // 1"
   ]
  },
  {
   "cell_type": "markdown",
   "id": "c1f77995-9ee2-4db7-9d79-317c168c5984",
   "metadata": {},
   "source": [
    "<h2><b>6. Operatory logiczne</b></h2>"
   ]
  },
  {
   "cell_type": "markdown",
   "id": "04f5cd44-5c0e-477e-aed3-ea93fa1006cc",
   "metadata": {},
   "source": [
    "<h4>W C++ istnieją 3 operatory logiczne, które pozwalają budować złożone warunki logiczne, są to:\n",
    "<ul>\n",
    "    <li>|| suma logiczna (alternatywa)</li>\n",
    "    <li>&& iloczyn logiczny (koniunkcja)</li>\n",
    "    <li>! negacja logiczna</li>\n",
    "</ul>\n",
    "</h4>"
   ]
  },
  {
   "cell_type": "code",
   "execution_count": 5,
   "id": "29f5fba3-7ec9-494c-960e-e956ee6f95b4",
   "metadata": {},
   "outputs": [
    {
     "data": {
      "text/markdown": [
       "1\n",
       "\n",
       "0\n",
       "\n",
       "true\n",
       "\n",
       "false\n",
       "\n"
      ]
     },
     "metadata": {},
     "output_type": "display_data"
    }
   ],
   "source": [
    "#include <iostream>\n",
    "using namespace std;\n",
    "\n",
    "int a = 5, b = 7, c = 10;\n",
    "\n",
    "cout << ((a < b) || (c < b)) << endl; // 1\n",
    "cout << ((a < b) && (c < b)) << endl; // 1\n",
    "cout << boolalpha << (5 > 2) << endl; // true\n",
    "cout << boolalpha << (4 < 1) << endl; // false"
   ]
  },
  {
   "cell_type": "code",
   "execution_count": null,
   "id": "d1b7f181-7cfe-4fa1-86ac-76edd1e98923",
   "metadata": {},
   "outputs": [],
   "source": []
  }
 ],
 "metadata": {
  "kernelspec": {
   "display_name": "C++14",
   "language": "c++",
   "name": "cpp14"
  },
  "language_info": {
   "file_extension": ".cpp",
   "mimetype": "text/markdown",
   "name": "text/markdown"
  }
 },
 "nbformat": 4,
 "nbformat_minor": 5
}
