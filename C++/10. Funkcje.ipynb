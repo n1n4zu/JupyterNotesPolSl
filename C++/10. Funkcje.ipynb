{
 "cells": [
  {
   "cell_type": "markdown",
   "id": "74e61e6e-7e60-4f4b-aa80-155f72798828",
   "metadata": {},
   "source": [
    "<h1><b>Funkjce</b></h1>"
   ]
  },
  {
   "cell_type": "markdown",
   "id": "f298cdd2-a175-43a3-9336-ce52d47d8628",
   "metadata": {},
   "source": [
    "<h4>Funkcja służy do zastąpienie powtarzalnego fragmentu krótką nazwą.</h2>"
   ]
  },
  {
   "cell_type": "markdown",
   "id": "4910ad96-c4c1-4f76-96f2-e6cbf463b16d",
   "metadata": {},
   "source": [
    "<h4>Funkcje tworzymy po przez nadanie zwracanego typu (void jeśli nic nie zwraca), nazwy funkcji i parametrów, które funkcja przyjmuje</h4>"
   ]
  },
  {
   "cell_type": "raw",
   "id": "c988a5ab-d228-47df-a99b-1905b95701ee",
   "metadata": {},
   "source": [
    "typ_zwracany nazwaFunkcji (typ_par1 nazwa_par1, typ_par2 nazwa_par2);\n",
    "void nazwaFunkcji (void);\n",
    "void nazwaFunkcji ();"
   ]
  },
  {
   "cell_type": "code",
   "execution_count": 1,
   "id": "2aa2f630-7e89-43a5-90a0-8a0325a0764a",
   "metadata": {},
   "outputs": [],
   "source": [
    "double poleKola(double r);\n",
    "bool czyKoniecGry(int wynik);\n",
    "double oblicz(int nrProbki, double cisnienie, double temperatura);\n",
    "void rysujRamke(void);\n",
    "void rysujRamke();"
   ]
  },
  {
   "cell_type": "markdown",
   "id": "c8fd4335-bccb-4303-9117-4641f5a4dc3b",
   "metadata": {},
   "source": [
    "<h4>Zgodnie z konwencją najpierw definiujemy funkcję, a później je inicjalizujemy.</h4>"
   ]
  },
  {
   "cell_type": "raw",
   "id": "b8e7b75f-b6d4-4020-befe-d25a3d8fc07e",
   "metadata": {},
   "source": [
    "typ_zwracany nazwaFunkcji (typ_par1 nazwa_par1, typ_par2 nazwa_par2);\n",
    "\n",
    "typ_zwracany nazwaFunkcji (typ_par1 nazwa_par1, typ_par2 nazwa_par2) {\n",
    "    typ_zwracany zmienna;\n",
    "    instrukcje\n",
    "    return zmienna;\n",
    "}"
   ]
  },
  {
   "cell_type": "code",
   "execution_count": 2,
   "id": "c30a41fd-f9ce-4ae8-8360-877457784590",
   "metadata": {},
   "outputs": [
    {
     "data": {
      "text/markdown": [
       "Podaj wymiary prostokąta: \n",
       "\n"
      ]
     },
     "metadata": {},
     "output_type": "display_data"
    },
    {
     "name": "stdin",
     "output_type": "stream",
     "text": [
      " 2\n",
      " 5\n"
     ]
    },
    {
     "data": {
      "text/markdown": [
       "Pole wynosi: 10\n",
       "\n"
      ]
     },
     "metadata": {},
     "output_type": "display_data"
    }
   ],
   "source": [
    "#include <iostream>\n",
    "\n",
    "using namespace std;\n",
    "\n",
    "double poleProstokata (double a, double b);\n",
    "\n",
    "int main () {\n",
    "    double dl, szer;\n",
    "    cout << \"Podaj wymiary prostokąta: \" << endl;\n",
    "    cin >> dl;\n",
    "    cin >> szer;\n",
    "    cout << \"Pole wynosi: \";\n",
    "    cout << poleProstokata(dl, szer) << endl;\n",
    "\n",
    "    return 0;\n",
    "}\n",
    "\n",
    "double poleProstokata (double a, double b) {\n",
    "    return a * b;\n",
    "}"
   ]
  },
  {
   "cell_type": "code",
   "execution_count": null,
   "id": "a93c1a0a-0881-4a57-926a-454b83c33c56",
   "metadata": {},
   "outputs": [],
   "source": []
  }
 ],
 "metadata": {
  "kernelspec": {
   "display_name": "C++14",
   "language": "c++",
   "name": "cpp14"
  },
  "language_info": {
   "file_extension": ".cpp",
   "mimetype": "text/markdown",
   "name": "text/markdown"
  }
 },
 "nbformat": 4,
 "nbformat_minor": 5
}
