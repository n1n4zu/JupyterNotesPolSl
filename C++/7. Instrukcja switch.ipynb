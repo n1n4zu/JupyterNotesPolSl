{
 "cells": [
  {
   "cell_type": "markdown",
   "id": "872b46cc-3848-4682-b1a9-5f6827d80a97",
   "metadata": {},
   "source": [
    "<h1><b>Instrukcja switch</b></h1>"
   ]
  },
  {
   "cell_type": "markdown",
   "id": "a08e7cf2-4a9c-4e77-b435-0d16e1dfdbcf",
   "metadata": {},
   "source": [
    "<h4>Instrukcji <b><i>switch</i></b> używamy zamiennie z instrukcją warunkową, ale z pewnym ograniczeniem. <u><b>Wyrażeniem może być tylko typ całkowity lub znakowy!</b></u></h4>"
   ]
  },
  {
   "cell_type": "raw",
   "id": "82b4f20a-152a-4f29-af0c-ffc9095c553d",
   "metadata": {},
   "source": [
    "switch (wyrazenie) {\n",
    "    case n1:\n",
    "        instrukcja dla wyrażenia n1<br/>\n",
    "        break;\n",
    "    case n2:\n",
    "        instrukcja dla wyrażenia n2<br/>\n",
    "        break;\n",
    "    ...\n",
    "    default:\n",
    "        instrukcja domyślna jeśli żaden case nie jest spełniony<br/>\n",
    "        break;\n",
    "}"
   ]
  },
  {
   "cell_type": "code",
   "execution_count": 1,
   "id": "a2a5d782-5cbe-4d30-8734-019c12123ec3",
   "metadata": {},
   "outputs": [
    {
     "data": {
      "text/markdown": [
       "3"
      ]
     },
     "metadata": {},
     "output_type": "display_data"
    }
   ],
   "source": [
    "#include <iostream>\n",
    "using namespace std;\n",
    "\n",
    "int a = 3;\n",
    "\n",
    "switch (a) {\n",
    "    case 1:\n",
    "        cout << --a;\n",
    "        break;\n",
    "    case 2:\n",
    "        a++;\n",
    "        cout << a;\n",
    "        break;\n",
    "    case 3:\n",
    "        cout << a;\n",
    "        break;\n",
    "    default:\n",
    "        cout << \"Zła wartość zmiennej a\";\n",
    "        break;\n",
    "}"
   ]
  },
  {
   "cell_type": "markdown",
   "id": "b48b7365-01cf-4050-83c6-a6325b231638",
   "metadata": {},
   "source": [
    "<h4><b><u>Tak samo jak w instrukcji warunkowej, tak samo tutaj, w przypadku jeśli kilka jest spełnionych wykona się pierwszy w kolejności case.</u></b></h4>"
   ]
  },
  {
   "cell_type": "code",
   "execution_count": null,
   "id": "ce0ef959-adf0-41f2-83d6-5d0f75dddb5e",
   "metadata": {},
   "outputs": [],
   "source": []
  }
 ],
 "metadata": {
  "kernelspec": {
   "display_name": "C++14",
   "language": "c++",
   "name": "cpp14"
  },
  "language_info": {
   "file_extension": ".cpp",
   "mimetype": "text/markdown",
   "name": "text/markdown"
  }
 },
 "nbformat": 4,
 "nbformat_minor": 5
}
