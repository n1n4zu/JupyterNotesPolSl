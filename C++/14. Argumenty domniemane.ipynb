{
 "cells": [
  {
   "cell_type": "markdown",
   "id": "c848b4c2-e8e1-46a3-9976-0e99fa35ae36",
   "metadata": {},
   "source": [
    "<h1><b>Argumenty domniemane</b></h1>"
   ]
  },
  {
   "cell_type": "markdown",
   "id": "a64d0625-40f9-451c-a77b-ba25f2624745",
   "metadata": {},
   "source": [
    "<h4>Argumenty domniemane są argumentami, które mają określoną odgórnie wartość, którą można zmienić poprzez wprowadzenie argumenty przy wywoływaniu funkcji.</h4>"
   ]
  },
  {
   "cell_type": "markdown",
   "id": "12451e78-df4a-4a0f-985f-d7c9693a2bd6",
   "metadata": {},
   "source": [
    "<h4><b><u>Argumenty domniemane zawsze są na końcu listy!</u></b></h4>"
   ]
  },
  {
   "cell_type": "code",
   "execution_count": 3,
   "id": "b045a116-26a6-4198-aa2b-aee2377baf04",
   "metadata": {},
   "outputs": [
    {
     "data": {
      "text/markdown": [
       "x = 1 y = 0 z = 2 t = 5\n",
       "\n",
       "8\n",
       "\n",
       "x = 3 y = 4 z = 2 t = 5\n",
       "\n",
       "14\n",
       "\n",
       "x = 3 y = 4 z = 7 t = 5\n",
       "\n",
       "19\n",
       "\n",
       "x = 3 y = 4 z = 7 t = 8\n",
       "\n",
       "22\n",
       "\n"
      ]
     },
     "metadata": {},
     "output_type": "display_data"
    }
   ],
   "source": [
    "#include <iostream>\n",
    "\n",
    "using namespace std;\n",
    "\n",
    "int suma (int x, int y=0, int z=2, int t=5);\n",
    "\n",
    "int main () {\n",
    "    cout << suma(1) << endl;\n",
    "    cout << suma(3, 4) << endl;\n",
    "    cout << suma(3, 4, 7) << endl;\n",
    "    cout << suma(3, 4, 7, 8) << endl;\n",
    "\n",
    "    return 0;\n",
    "}\n",
    "\n",
    "int suma (int x, int y, int z, int t) {\n",
    "    cout << \"x = \" << x << \" y = \" << y << \" z = \" << z << \" t = \" << t << endl;\n",
    "    return x + y + z + t;\n",
    "}"
   ]
  },
  {
   "cell_type": "code",
   "execution_count": null,
   "id": "2cd24366-d9fc-4a5e-b6f9-41d98c850aea",
   "metadata": {},
   "outputs": [],
   "source": []
  }
 ],
 "metadata": {
  "kernelspec": {
   "display_name": "C++14",
   "language": "c++",
   "name": "cpp14"
  },
  "language_info": {
   "file_extension": ".cpp",
   "mimetype": "text/markdown",
   "name": "text/markdown"
  }
 },
 "nbformat": 4,
 "nbformat_minor": 5
}
