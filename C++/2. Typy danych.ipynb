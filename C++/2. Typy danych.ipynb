{
 "cells": [
  {
   "cell_type": "markdown",
   "id": "805968ff-38d5-4855-b19c-6518590b088b",
   "metadata": {},
   "source": [
    "<h1><b>Typy danych</b></h1>"
   ]
  },
  {
   "cell_type": "markdown",
   "id": "fc0eda54-0bdf-4bd8-b2ff-a5d86d776537",
   "metadata": {},
   "source": [
    "<h4>W C++ wyróżniamy 4 typy proste danych, są to <b><i>całkowity<i/></b>, <b><i>znakowy</i></b>, <b><i>zmiennoprzecinkowy</i></b> i <b><i>logiczny</i></b> oraz jeden złożony, <b><i>string</i></b></h4>"
   ]
  },
  {
   "cell_type": "markdown",
   "id": "62bbc0a1-fab7-4bc5-a034-dd517f1296b3",
   "metadata": {},
   "source": [
    "<h2><b>1. Liczby całkowite</b></h2>"
   ]
  },
  {
   "cell_type": "markdown",
   "id": "c133f649-271d-407b-96d3-c90f8ce1fbe6",
   "metadata": {},
   "source": [
    "<h4>int -> 4 bajty (od -2147483648 do 2147483647)</h4>"
   ]
  },
  {
   "cell_type": "code",
   "execution_count": 1,
   "id": "693f9b0c-6e84-4431-83cb-6df3f1996ac0",
   "metadata": {},
   "outputs": [
    {
     "data": {
      "text/markdown": [
       "Rozmiar liczby 1: 4\n",
       "\n",
       "Rozmiar liczby -2147483646: 4\n",
       "\n"
      ]
     },
     "metadata": {},
     "output_type": "display_data"
    }
   ],
   "source": [
    "using namespace std;\n",
    "\n",
    "int liczba1 = 1;\n",
    "int liczba2 = 2147483650;\n",
    "\n",
    "cout << \"Rozmiar liczby \" << liczba1 << \": \" << sizeof(liczba1) << endl;\n",
    "cout << \"Rozmiar liczby \" << liczba2 << \": \" << sizeof(liczba2) << endl;"
   ]
  },
  {
   "cell_type": "markdown",
   "id": "330d1ee7-9e41-4731-a89a-c5ecfe59035c",
   "metadata": {},
   "source": [
    "<h4>unsigned int -> 4 bajty (od 0 do 4294967295)</h4>"
   ]
  },
  {
   "cell_type": "code",
   "execution_count": 2,
   "id": "39c00810-c9ea-45a1-b206-9f706f4d5f44",
   "metadata": {},
   "outputs": [
    {
     "data": {
      "text/markdown": [
       "Rozmiar liczby 1024: 4\n",
       "\n",
       "Rozmiar liczby 0: 4\n",
       "\n"
      ]
     },
     "metadata": {},
     "output_type": "display_data"
    }
   ],
   "source": [
    "using namespace std;\n",
    "\n",
    "unsigned int liczba1 = 1024;\n",
    "unsigned int liczba2 = 4294967296;\n",
    "\n",
    "cout << \"Rozmiar liczby \" << liczba1 << \": \" << sizeof(liczba1) << endl;\n",
    "cout << \"Rozmiar liczby \" << liczba2 << \": \" << sizeof(liczba2) << endl;"
   ]
  },
  {
   "cell_type": "markdown",
   "id": "cbf732e3-8d9d-443b-9975-8991af4b2234",
   "metadata": {},
   "source": [
    "<h4>short int -> 2 bajty (od -32768 do 32767)</h4>"
   ]
  },
  {
   "cell_type": "code",
   "execution_count": 3,
   "id": "6ff6788e-5d16-44b4-960e-9309e344a4f0",
   "metadata": {},
   "outputs": [
    {
     "data": {
      "text/markdown": [
       "Rozmiar liczby 512: 2\n",
       "\n",
       "Rozmiar liczby -32756: 2\n",
       "\n"
      ]
     },
     "metadata": {},
     "output_type": "display_data"
    }
   ],
   "source": [
    "using namespace std;\n",
    "\n",
    "short int liczba1 = 512;\n",
    "short int liczba2 = 32780;\n",
    "\n",
    "cout << \"Rozmiar liczby \" << liczba1 << \": \" << sizeof(liczba1) << endl;\n",
    "cout << \"Rozmiar liczby \" << liczba2 << \": \" << sizeof(liczba2) << endl;"
   ]
  },
  {
   "cell_type": "markdown",
   "id": "b00159c5-8303-42fa-9ff9-4e4995904aca",
   "metadata": {},
   "source": [
    "<h4>long int -> 4 bajty (dla systemów 32-bitowych) 8 bajtów (dla systemów 64-bitowych) (od -2147483648 do 2147483647 (dla systemów 32-bitowych) -9223372036854775808 do 9223372036854775807 (dla systemów 64-bitowych))</h4>"
   ]
  },
  {
   "cell_type": "code",
   "execution_count": 4,
   "id": "3e0c99f9-22a2-4b23-a5c2-3101c4769abb",
   "metadata": {},
   "outputs": [
    {
     "data": {
      "text/markdown": [
       "Rozmiar liczby 2048: 8\n",
       "\n",
       "Rozmiar liczby -9223372036854765809: 8\n",
       "\n"
      ]
     },
     "metadata": {},
     "output_type": "display_data"
    }
   ],
   "source": [
    "using namespace std;\n",
    "\n",
    "long int liczba1 = 2048;\n",
    "long int liczba2 = 9223372036854785807;\n",
    "\n",
    "cout << \"Rozmiar liczby \" << liczba1 << \": \" << sizeof(liczba1) << endl;\n",
    "cout << \"Rozmiar liczby \" << liczba2 << \": \" << sizeof(liczba2) << endl;"
   ]
  },
  {
   "cell_type": "markdown",
   "id": "05307a48-b189-4087-868d-834245783bf8",
   "metadata": {},
   "source": [
    "<h4>long long int -> 8 bajtów (od -9223372036854775808 do 9223372036854775807)</h4>"
   ]
  },
  {
   "cell_type": "code",
   "execution_count": 5,
   "id": "28da978e-6e43-484a-bfa6-5b83812f88fc",
   "metadata": {},
   "outputs": [
    {
     "data": {
      "text/markdown": [
       "Rozmiar liczby 2048: 8\n",
       "\n",
       "Rozmiar liczby -9223371936854765809: 8\n",
       "\n"
      ]
     },
     "metadata": {},
     "output_type": "display_data"
    }
   ],
   "source": [
    "using namespace std;\n",
    "\n",
    "long long int liczba1 = 2048;\n",
    "long long int liczba2 = 9223372136854785807;\n",
    "\n",
    "cout << \"Rozmiar liczby \" << liczba1 << \": \" << sizeof(liczba1) << endl;\n",
    "cout << \"Rozmiar liczby \" << liczba2 << \": \" << sizeof(liczba2) << endl;"
   ]
  },
  {
   "cell_type": "markdown",
   "id": "42a31b5a-9a3f-4fab-8c23-605f91f35044",
   "metadata": {},
   "source": [
    "<h2><b>2. Typ znakowy</b></h2>"
   ]
  },
  {
   "cell_type": "markdown",
   "id": "f58ba213-89d2-4e8e-be28-ba181680e2d0",
   "metadata": {},
   "source": [
    "<h4>char -> 1 bajt (pojedynczy znak ASCII), znak można zapisać w apostrofach lub za pomocą liczby całkowitej odpowiadającej danemu znakowi</h4>"
   ]
  },
  {
   "cell_type": "code",
   "execution_count": 6,
   "id": "cd0af449-9175-4679-80eb-0b2c22c11039",
   "metadata": {},
   "outputs": [
    {
     "data": {
      "text/markdown": [
       "Rozmiar znaku \"x\": 1\n",
       "\n",
       "Wartość znaku \"x\" jako liczby załkowitej: 120\n",
       "\n",
       "Rozmiar znaku \"y\": 1\n",
       "\n",
       "Wartość znaku \"y\" jako liczby załkowitej: 121"
      ]
     },
     "metadata": {},
     "output_type": "display_data"
    }
   ],
   "source": [
    "using namespace std;\n",
    "\n",
    "char znak1 = 'x';\n",
    "char znak2 = 121;\n",
    "\n",
    "cout << \"Rozmiar znaku \\\"\" << znak1 << \"\\\": \" << sizeof(znak1) << endl;\n",
    "cout << \"Wartość znaku \\\"\" << znak1 << \"\\\" jako liczby załkowitej: \" << (int) znak1 << endl;\n",
    "\n",
    "cout << \"Rozmiar znaku \\\"\" << znak2 << \"\\\": \" << sizeof(znak2) << endl;\n",
    "cout << \"Wartość znaku \\\"\" << znak2 << \"\\\" jako liczby załkowitej: \" << (int) znak2;"
   ]
  },
  {
   "cell_type": "markdown",
   "id": "3e4549d1-14ab-4b6d-a148-3f2382036cb9",
   "metadata": {},
   "source": [
    "<h2><b>3. Liczby zmiennoprzecinkowe</b></h2>"
   ]
  },
  {
   "cell_type": "markdown",
   "id": "5ba3e3b5-8d6c-4b6d-b063-9dd692fea691",
   "metadata": {},
   "source": [
    "<h4>float -> 4 bajty (od 1.17549e-38 do 3.40282e+38)</h4>"
   ]
  },
  {
   "cell_type": "code",
   "execution_count": 7,
   "id": "a2c9e0f7-e3bc-44e3-8877-596b8564b135",
   "metadata": {},
   "outputs": [
    {
     "data": {
      "text/markdown": [
       "Rozmiar liczby 3.40282e+38: 4\n",
       "\n",
       "Rozmiar liczby 3.14: 4"
      ]
     },
     "metadata": {},
     "output_type": "display_data"
    }
   ],
   "source": [
    "using namespace std;\n",
    "\n",
    "float liczba1 = 3.40282e+38;\n",
    "float liczba2 = 3.14;\n",
    "\n",
    "cout << \"Rozmiar liczby \" << liczba1 << \": \" << sizeof(liczba1) << endl;\n",
    "cout << \"Rozmiar liczby \" << liczba2 << \": \" << sizeof(liczba2);"
   ]
  },
  {
   "cell_type": "markdown",
   "id": "a9d032d9-eb3a-44e8-b0fe-ec0da16c4d2d",
   "metadata": {},
   "source": [
    "<h4>double -> 8 bajtów (od 2.22507e-308 do 1.79769e+308)</h4>"
   ]
  },
  {
   "cell_type": "code",
   "execution_count": 8,
   "id": "a90c60d6-1d1f-4b26-833f-73f3aff275d4",
   "metadata": {},
   "outputs": [
    {
     "data": {
      "text/markdown": [
       "Rozmiar liczby "
      ]
     },
     "metadata": {},
     "output_type": "display_data"
    },
    {
     "data": {
      "text/markdown": [
       "1.79769e+308: 8\n",
       "\n",
       "Rozmiar liczby 2.71: 8"
      ]
     },
     "metadata": {},
     "output_type": "display_data"
    }
   ],
   "source": [
    "using namespace std;\n",
    "\n",
    "double liczba1 = 1.79769e+308;\n",
    "double liczba2 = 2.71;\n",
    "\n",
    "cout << \"Rozmiar liczby \" << liczba1 << \": \" << sizeof(liczba1) << endl;\n",
    "cout << \"Rozmiar liczby \" << liczba2 << \": \" << sizeof(liczba2);"
   ]
  },
  {
   "cell_type": "markdown",
   "id": "e6a84f70-60ea-4dec-8318-f7d157bfda1d",
   "metadata": {},
   "source": [
    "<h2><b>4. Typ logiczny</b></h2>"
   ]
  },
  {
   "cell_type": "markdown",
   "id": "ab4d6619-ca2c-4c26-9fde-38dd79704183",
   "metadata": {},
   "source": [
    "<h4>bool -> 1 bajt (true lub false (1 lub 0))</h4>"
   ]
  },
  {
   "cell_type": "code",
   "execution_count": 9,
   "id": "e4f38f0f-45b7-421c-9851-c047a046841f",
   "metadata": {},
   "outputs": [
    {
     "data": {
      "text/markdown": [
       "Prawda: 1\n",
       "\n",
       "Fałsz: 0\n",
       "\n",
       "Rozmiar bool: 1"
      ]
     },
     "metadata": {},
     "output_type": "display_data"
    }
   ],
   "source": [
    "using namespace std;\n",
    "\n",
    "bool prawda = true;\n",
    "bool falsz = false;\n",
    "\n",
    "cout << \"Prawda: \" << prawda << endl;\n",
    "cout << \"Fałsz: \" << falsz << endl;\n",
    "\n",
    "cout << \"Rozmiar bool: \" << sizeof(falsz);"
   ]
  },
  {
   "cell_type": "markdown",
   "id": "ae183a46-8f53-4ab4-be55-9a5e56d9bdcc",
   "metadata": {},
   "source": [
    "<h2><b>5. Typ złożony</b></h2>"
   ]
  },
  {
   "cell_type": "markdown",
   "id": "22a0afbd-0e69-4c42-b116-4c0b23aa2e94",
   "metadata": {},
   "source": [
    "<h4>string -> 32 bajty (łańcuch znaków)</h4>"
   ]
  },
  {
   "cell_type": "code",
   "execution_count": 10,
   "id": "72ffa31f-79e4-4f05-bc72-4eaa457de093",
   "metadata": {},
   "outputs": [
    {
     "data": {
      "text/markdown": [
       "Rozmiar tekstu \"Łańcuch znaków\": 32\n",
       "\n",
       "Rozmiar tekstu \"Król Karol kupił królowej Karolinie korale koloru koralowego\": 32"
      ]
     },
     "metadata": {},
     "output_type": "display_data"
    }
   ],
   "source": [
    "#include <string>\n",
    "using namespace std;\n",
    "\n",
    "string tekst1 = \"Łańcuch znaków\";\n",
    "string tekst2 = \"Król Karol kupił królowej Karolinie korale koloru koralowego\";\n",
    "\n",
    "cout << \"Rozmiar tekstu \\\"\" << tekst1 << \"\\\": \" << sizeof(tekst1) << endl;\n",
    "cout << \"Rozmiar tekstu \\\"\" << tekst2 << \"\\\": \" << sizeof(tekst2);"
   ]
  },
  {
   "cell_type": "code",
   "execution_count": null,
   "id": "133db86d-2e3d-48fe-8fe5-959ca16645e2",
   "metadata": {},
   "outputs": [],
   "source": []
  }
 ],
 "metadata": {
  "kernelspec": {
   "display_name": "C++14",
   "language": "c++",
   "name": "cpp14"
  },
  "language_info": {
   "file_extension": ".cpp",
   "mimetype": "text/markdown",
   "name": "text/markdown"
  }
 },
 "nbformat": 4,
 "nbformat_minor": 5
}
