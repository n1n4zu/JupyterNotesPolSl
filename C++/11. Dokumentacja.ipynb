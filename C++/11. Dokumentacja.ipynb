{
 "cells": [
  {
   "cell_type": "markdown",
   "id": "92a26acc-9980-442c-bb16-7651a0e0196d",
   "metadata": {},
   "source": [
    "<h1><b>Dokumentacja</b></h1>"
   ]
  },
  {
   "cell_type": "markdown",
   "id": "aef1581e-efd0-49ca-8cf2-20667aff5daf",
   "metadata": {},
   "source": [
    "<h4>Przy tworzeniu projektu dobrą praktyką jest robienie komentarzy dokumentujących pracę naszego programu.</h4>"
   ]
  },
  {
   "cell_type": "raw",
   "id": "a8201cd5-2aca-4442-bb76-08831d383a6e",
   "metadata": {},
   "source": [
    "/*\n",
    "Oblicza pole trójkąta\n",
    "@param base_lenght długość podstawy trójkąta\n",
    "@param height wysokość trójkąta\n",
    "@return area pole trójkąta\n",
    "*/\n",
    "double triangle_area (double, base_lenght, double height) {\n",
    "    ...\n",
    "    return area;\n",
    "}"
   ]
  },
  {
   "cell_type": "code",
   "execution_count": null,
   "id": "743f3fd6-8d5a-45ea-b2c8-a2ff8dbe91e3",
   "metadata": {},
   "outputs": [],
   "source": []
  }
 ],
 "metadata": {
  "kernelspec": {
   "display_name": "C++14",
   "language": "c++",
   "name": "cpp14"
  },
  "language_info": {
   "file_extension": ".cpp",
   "mimetype": "text/markdown",
   "name": "text/markdown"
  }
 },
 "nbformat": 4,
 "nbformat_minor": 5
}
