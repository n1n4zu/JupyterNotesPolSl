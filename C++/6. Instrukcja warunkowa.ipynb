{
 "cells": [
  {
   "cell_type": "markdown",
   "id": "8bb85a1c-75fc-4f1c-81a3-7a786b73388e",
   "metadata": {},
   "source": [
    "<h1><b>Instrukcja warunkowa</b></h1>"
   ]
  },
  {
   "cell_type": "markdown",
   "id": "4d0a39b2-d53d-469b-ba46-7115c2c63d1c",
   "metadata": {},
   "source": [
    "<h4>W C++ wyróżniamy 3 rodzaje instrukcji warunkowych: <b><i>if</i></b>, <b><i>if ... else</i></b> i <b><i>if ... else if ... else</i></b>.</h4>"
   ]
  },
  {
   "cell_type": "markdown",
   "id": "1064ef35-9426-4ed8-bb34-26c9c462adb4",
   "metadata": {},
   "source": [
    "<h2><b>1. Instrukcja if</b></h2>"
   ]
  },
  {
   "cell_type": "raw",
   "id": "e2be2d92-289e-4c30-90a9-b764511fc532",
   "metadata": {},
   "source": [
    "if (warunek) instrukcja;\n",
    "\n",
    "if (warunek) {\n",
    "    blok poleceń\n",
    "}"
   ]
  },
  {
   "cell_type": "markdown",
   "id": "84707f3f-c453-45e2-93a8-a86a213262fa",
   "metadata": {},
   "source": [
    "<h4><u>Jeśli instrukcja warunkowa ma wykonać tylko jedną instrukcję to można pominąć nawiasy klamrowe.</u></h4>"
   ]
  },
  {
   "cell_type": "code",
   "execution_count": 1,
   "id": "b345f6c1-704e-4006-aff3-09e8659fb9e2",
   "metadata": {},
   "outputs": [
    {
     "data": {
      "text/markdown": [
       "5 > 2\n",
       "\n",
       "7 > 3\n",
       "\n",
       "Koniec"
      ]
     },
     "metadata": {},
     "output_type": "display_data"
    }
   ],
   "source": [
    "#include <iostream>\n",
    "using namespace std;\n",
    "\n",
    "if (5 > 2) cout << \"5 > 2\" << endl;\n",
    "\n",
    "if (7 > 3) {\n",
    "    cout << \"7 > 3\" << endl;\n",
    "    cout << \"Koniec\";\n",
    "}"
   ]
  },
  {
   "cell_type": "markdown",
   "id": "e178c40b-1bf4-42e4-b56a-bf59e8680a1e",
   "metadata": {},
   "source": [
    "<h2><b>2. Instrukcja if ... else</b></h2>"
   ]
  },
  {
   "cell_type": "markdown",
   "id": "bd7b5068-54e7-4187-8765-2bd4cef783c1",
   "metadata": {},
   "source": [
    "<h4>Instrukcja <b><i>if ... else</i></b> jest używana gdy chcemy wykonać dwie różne operacje zależne od wyniku warunku.</h4>"
   ]
  },
  {
   "cell_type": "code",
   "execution_count": 2,
   "id": "3efffb29-7c63-4d2c-a3a9-1dfb7bfb9e95",
   "metadata": {},
   "outputs": [
    {
     "data": {
      "text/markdown": [
       "5 > 2"
      ]
     },
     "metadata": {},
     "output_type": "display_data"
    }
   ],
   "source": [
    "#include <iostream>\n",
    "using namespace std;\n",
    "\n",
    "if (5 < 2) cout << \"5 < 2\";\n",
    "else cout << \"5 > 2\";"
   ]
  },
  {
   "cell_type": "markdown",
   "id": "731d4d12-96b8-446a-9af1-7f2d54425324",
   "metadata": {},
   "source": [
    "<h2><b>3. Instrukcja if ... else if ... else</b></h2>"
   ]
  },
  {
   "cell_type": "markdown",
   "id": "f37e9bb5-c66f-4385-9b19-390400d68553",
   "metadata": {},
   "source": [
    "<h4>Instrukcja <b><i>if ... else if ... else</i></b> jest używana gdy spodziewamy się kilku różnych wyników i chcemy wykonać operację zależną od wyniku.</h4>"
   ]
  },
  {
   "cell_type": "code",
   "execution_count": 3,
   "id": "677d5513-6890-4abb-8f7a-1c8865a93d99",
   "metadata": {},
   "outputs": [
    {
     "data": {
      "text/markdown": [
       "a = 5"
      ]
     },
     "metadata": {},
     "output_type": "display_data"
    }
   ],
   "source": [
    "#include <iostream>\n",
    "using namespace std;\n",
    "\n",
    "int a = 5;\n",
    "\n",
    "if (a == 6) cout << \"prawda\";\n",
    "else if (a == 5) cout << \"a = \" << a;\n",
    "else cout << \"a nie jest równe 5 ani 6\";"
   ]
  },
  {
   "cell_type": "markdown",
   "id": "0451cf7e-5449-4c54-aaca-9987e5644c05",
   "metadata": {},
   "source": [
    "<h4><u>Jeśli jest kilka prawdziwych warunków, wykona się tenm który jest pierwszy w kolejności.</u></h4>"
   ]
  },
  {
   "cell_type": "code",
   "execution_count": 4,
   "id": "2782b3b5-9bfe-4e65-9ac6-63b04eec86f6",
   "metadata": {},
   "outputs": [
    {
     "data": {
      "text/markdown": [
       "a = 8"
      ]
     },
     "metadata": {},
     "output_type": "display_data"
    }
   ],
   "source": [
    "#include <iostream>\n",
    "using namespace std;\n",
    "\n",
    "int a = 8;\n",
    "\n",
    "if (a == 6) cout << \"prawda\";\n",
    "else if (a > 6) cout << \"a = \" << a;\n",
    "else if (a < 9) cout << \"a jest równe \" << a;\n",
    "else cout << \"a nie jest równe 5 ani 6\";"
   ]
  },
  {
   "cell_type": "code",
   "execution_count": null,
   "id": "3a0e9456-be51-4fc8-91a9-ea3dc69346a4",
   "metadata": {},
   "outputs": [],
   "source": []
  }
 ],
 "metadata": {
  "kernelspec": {
   "display_name": "C++14",
   "language": "c++",
   "name": "cpp14"
  },
  "language_info": {
   "file_extension": ".cpp",
   "mimetype": "text/markdown",
   "name": "text/markdown"
  }
 },
 "nbformat": 4,
 "nbformat_minor": 5
}
