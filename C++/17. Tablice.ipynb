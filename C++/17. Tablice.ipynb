{
 "cells": [
  {
   "cell_type": "markdown",
   "id": "b2f8acda-f752-4605-9075-66ed70a4a498",
   "metadata": {},
   "source": [
    "<h1><b>Tablice</b></h1>"
   ]
  },
  {
   "cell_type": "markdown",
   "id": "f5f60bfa-209a-4d27-b475-92e5103a52ba",
   "metadata": {},
   "source": [
    "<h2><b>1. Tablice</b></h2>"
   ]
  },
  {
   "cell_type": "markdown",
   "id": "2f0a4aa9-0759-4fa6-a2f0-e0254aa4bbd1",
   "metadata": {},
   "source": [
    "<h4>Tablica to ciąg elementów tego samego typu zajmujący ciągły obszar w pamięci.</h4>"
   ]
  },
  {
   "cell_type": "raw",
   "id": "0a39dc36-4646-4db4-9ce0-1a8cc3c84166",
   "metadata": {},
   "source": [
    "typ nazwaTablicy[liczba_elementow];\n",
    "typ nazwaTablicy[] = {wart_1, wart_2, ..., wart_n};\n",
    "typ nazwaTablicy[] = {wart_1, wart_2, ..., wart_n};"
   ]
  },
  {
   "cell_type": "code",
   "execution_count": 3,
   "id": "01ebc25d-64f3-42fc-9cec-91bbcfd67fb9",
   "metadata": {},
   "outputs": [],
   "source": [
    "double tab[10];\n",
    "char znaki[] = {'a','b', 'c'};\n",
    "int liczby[5] = {1, 2, 3};"
   ]
  },
  {
   "cell_type": "markdown",
   "id": "c649b78e-8dbc-466a-bc77-f54199e6637d",
   "metadata": {},
   "source": [
    "<h2><b>2. Podstawowe informacje</b></h2>"
   ]
  },
  {
   "cell_type": "markdown",
   "id": "383983ee-4003-4037-ae7e-e149de732c15",
   "metadata": {},
   "source": [
    "<h4>\n",
    "    <ul>\n",
    "        <li>Indeksowanie - liczenie indeksów zaczynamy od 0 i kończymy na n - 1 elemencie</li>\n",
    "        <li>Do <i>i</i>-tego elementu tablicy odwołujemy się po przez nazwa[i]</li>\n",
    "        <li>Kompilator wywoła błąd jeśli przekroczymy zakres tablicy</li>\n",
    "        <li>Nazwa tablicy jest jednocześnie adresem zerowego elementu tablicy (nazwaTablicy = nazwaTablicy[0])</li>\n",
    "    </ul>\n",
    "</h4>"
   ]
  },
  {
   "cell_type": "code",
   "execution_count": null,
   "id": "b6d50180-874e-4033-b48c-4b0d9fcac077",
   "metadata": {},
   "outputs": [],
   "source": []
  }
 ],
 "metadata": {
  "kernelspec": {
   "display_name": "C++14",
   "language": "c++",
   "name": "cpp14"
  },
  "language_info": {
   "file_extension": ".cpp",
   "mimetype": "text/markdown",
   "name": "text/markdown"
  }
 },
 "nbformat": 4,
 "nbformat_minor": 5
}
