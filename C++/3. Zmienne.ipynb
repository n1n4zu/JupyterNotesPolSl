{
 "cells": [
  {
   "cell_type": "markdown",
   "id": "86a9cf0c-90a4-4854-a040-df16fc0a0880",
   "metadata": {},
   "source": [
    "<h1><b>Zmienne</b></h1>"
   ]
  },
  {
   "cell_type": "markdown",
   "id": "67fc12eb-4b10-4dd0-893c-030c0c735ba1",
   "metadata": {},
   "source": [
    "<h4>Zmienne służą do przechowywania wartości w pamięci komputera.\n",
    "Zmienne tworzymy poprzez określenie typu danych i nazwy zmiennej -> typ_danych nazwa_zmiennej = wartosc;\n",
    "Zmienną można zadeklarować lub zadeklarować i zainicjalizować.</h4>"
   ]
  },
  {
   "cell_type": "code",
   "execution_count": 1,
   "id": "ca0b5e91-a440-429f-869b-4318962a6577",
   "metadata": {},
   "outputs": [],
   "source": [
    "int zmienna; // Deklaracja zmiennej"
   ]
  },
  {
   "cell_type": "code",
   "execution_count": 2,
   "id": "9e3e1543-525e-4279-8577-7534a606d589",
   "metadata": {},
   "outputs": [],
   "source": [
    "int zmienna = 1; // Deklaracja zmiennej wraz z inicjalizacją"
   ]
  },
  {
   "cell_type": "code",
   "execution_count": null,
   "id": "95f124ff-7161-4a14-87d5-9c711e3cbde2",
   "metadata": {},
   "outputs": [],
   "source": []
  }
 ],
 "metadata": {
  "kernelspec": {
   "display_name": "C++14",
   "language": "c++",
   "name": "cpp14"
  },
  "language_info": {
   "file_extension": ".cpp",
   "mimetype": "text/markdown",
   "name": "text/markdown"
  }
 },
 "nbformat": 4,
 "nbformat_minor": 5
}
