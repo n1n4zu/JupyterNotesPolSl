{
 "cells": [
  {
   "cell_type": "markdown",
   "id": "828607d8-1f04-4341-a803-2b75c56b83ef",
   "metadata": {},
   "source": [
    "<h1><b>Kilka plików</b></h1>"
   ]
  },
  {
   "cell_type": "markdown",
   "id": "175241e0-fa28-488a-bb79-d91bc2657bd8",
   "metadata": {},
   "source": [
    "<h4>Jeśli chcemy by nasz program składał się z kilku plików to musimy utworzyć dwa pliki: <i>plik nagłówkowy</i> o rozszerzeniu .h lub .hpp i <i>plik inicjalizujący</i> o rozszerzeniu .cpp</h4>"
   ]
  },
  {
   "cell_type": "markdown",
   "id": "787f2aa0-cd99-42dd-b4ba-fe1ea4a30502",
   "metadata": {},
   "source": [
    "<h4>Struktura pliku nagłówkowego:</h4>"
   ]
  },
  {
   "cell_type": "raw",
   "id": "298349aa-893e-4d90-86b7-d0edc4e533f3",
   "metadata": {},
   "source": [
    "#ifndef NAZWAPLIKU_H\n",
    "#define NAZWAPLIKU_H\n",
    "\n",
    "/*\n",
    "\n",
    "definicje zmiennych, stałych globalnych i funkcji\n",
    "\n",
    "*/\n",
    "\n",
    "#endif"
   ]
  },
  {
   "cell_type": "markdown",
   "id": "d0980258-edce-4f00-bed8-ee8151bc1585",
   "metadata": {},
   "source": [
    "<h4>Struktura pliku inicjalizującego:</h4>"
   ]
  },
  {
   "cell_type": "raw",
   "id": "cd204d30-ccd0-4123-bf9e-6192e643e931",
   "metadata": {},
   "source": [
    "#include \"nazwa_pliku.h\"\n",
    "\n",
    "/*\n",
    "\n",
    "inizjalizacja zmiennych, stałych globalnych i funkcji\n",
    "\n",
    "*/"
   ]
  },
  {
   "cell_type": "raw",
   "id": "40519914-a2a7-4219-b62d-0ad64dce84c9",
   "metadata": {},
   "source": [
    "#ifndef NAGLOWEK_H\n",
    "#define NAGLOWEK_H\n",
    "\n",
    "void wypisz();\n",
    "\n",
    "#endif"
   ]
  },
  {
   "cell_type": "raw",
   "id": "548c1118-22f1-49bf-9882-dfc31abaa616",
   "metadata": {},
   "source": [
    "#include \"naglowek.h\"\n",
    "#include <iostream>\n",
    "using namespace std;\n",
    "\n",
    "void wypisz() {\n",
    "    cout << \"Hello World!!!\" << endl;\n",
    "}"
   ]
  },
  {
   "cell_type": "code",
   "execution_count": null,
   "id": "9ccc40e2-2b36-49f3-9783-24de1cccf213",
   "metadata": {},
   "outputs": [],
   "source": []
  }
 ],
 "metadata": {
  "kernelspec": {
   "display_name": "C++14",
   "language": "c++",
   "name": "cpp14"
  },
  "language_info": {
   "file_extension": ".cpp",
   "mimetype": "text/markdown",
   "name": "text/markdown"
  }
 },
 "nbformat": 4,
 "nbformat_minor": 5
}
