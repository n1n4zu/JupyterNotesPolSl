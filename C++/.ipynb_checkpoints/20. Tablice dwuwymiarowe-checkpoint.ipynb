{
 "cells": [
  {
   "cell_type": "markdown",
   "id": "34438180-2b18-48e1-a8c9-1b79e978b6f9",
   "metadata": {},
   "source": [
    "<h1><b>Tablice dwuwymiarowe</b></h1>"
   ]
  },
  {
   "cell_type": "raw",
   "id": "a263d8a8-6f1d-4231-a0c1-45db4f13327e",
   "metadata": {},
   "source": [
    "typ nazwaTablicy[n][m];\n",
    "typ nazwaTablicy[n][m] = warotść;"
   ]
  },
  {
   "cell_type": "code",
   "execution_count": 1,
   "id": "d07359b3-967f-4088-bf7f-4a2e7202ec58",
   "metadata": {},
   "outputs": [],
   "source": [
    "int liczby[2][3] = {{1, 2, 3}, {1, 1, 1}};\n",
    "double dane[3][2] = {{1.0, 2.0}};\n",
    "double macierz[2][3] = {{1.0}, {5.0}};\n",
    "int cyferki[2][3] = {1, 2, 3, 4, 5, 6};"
   ]
  },
  {
   "cell_type": "code",
   "execution_count": null,
   "id": "81fecafe-e7d9-4de5-8a7c-f9078a519be3",
   "metadata": {},
   "outputs": [],
   "source": []
  }
 ],
 "metadata": {
  "kernelspec": {
   "display_name": "C++14",
   "language": "c++",
   "name": "cpp14"
  },
  "language_info": {
   "file_extension": ".cpp",
   "mimetype": "text/markdown",
   "name": "text/markdown"
  }
 },
 "nbformat": 4,
 "nbformat_minor": 5
}
