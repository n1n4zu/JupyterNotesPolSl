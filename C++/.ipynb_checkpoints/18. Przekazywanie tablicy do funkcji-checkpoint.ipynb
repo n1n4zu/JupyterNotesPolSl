{
 "cells": [
  {
   "cell_type": "markdown",
   "id": "af0ea749-f84e-47a3-be37-f95d2e8a8432",
   "metadata": {},
   "source": [
    "<h1><b>Przekazywanie tablicy do funkcji</b></h1>"
   ]
  },
  {
   "cell_type": "markdown",
   "id": "783ef50b-10f5-4334-8230-0f650fb032cf",
   "metadata": {},
   "source": [
    "<h4>Tablice przesyłamy poprzez podanie adresu zerowego elementu tablicy.</h4>"
   ]
  },
  {
   "cell_type": "raw",
   "id": "9bc97ab0-d1bb-4fa2-a6c7-fb423f962c2e",
   "metadata": {},
   "source": [
    "int oblicz(int tab[]);\n",
    "bool czyKontynuowac(int licz);\n",
    "\n",
    "int liczby[5] = {1, 2, 5, 7, 9};\n",
    "oblicz(liczby); // przekazanie adresu zerowego elementu\n",
    "\n",
    "czyKontynuowac(liczby[2]); // przekazane wartości z tablicy"
   ]
  },
  {
   "cell_type": "code",
   "execution_count": 4,
   "id": "82a4b610-dfd1-4c2f-a638-ce07c65c24bb",
   "metadata": {},
   "outputs": [
    {
     "data": {
      "text/markdown": [
       "tab[ 0 ] = 1\n",
       "\n",
       "tab[ 1 ] = 2\n",
       "\n",
       "tab[ 2 ] = 5\n",
       "\n",
       "tab[ 3 ] = 7\n",
       "\n",
       "tab[ 4 ] = 9\n",
       "\n",
       "tab[ 0 ] = 100\n",
       "\n",
       "tab[ 1 ] = 200\n",
       "\n",
       "tab[ 2 ] = 500\n",
       "\n",
       "tab[ 3 ] = 700\n",
       "\n",
       "tab[ 4 ] = 900\n",
       "\n"
      ]
     },
     "metadata": {},
     "output_type": "display_data"
    }
   ],
   "source": [
    "#include <iostream>\n",
    "using namespace std;\n",
    "\n",
    "void powieksz(int tab[], int rozmiar) {\n",
    "    for(int i = 0; i < rozmiar; i++){\n",
    "        tab[i] *= 100;\n",
    "    }\n",
    "}\n",
    "\n",
    "void wypisz(int tab[], int rozmiar) {\n",
    "    for(int i = 0; i < rozmiar; i++){\n",
    "        cout << \"tab[ \" << i << \" ] = \" << tab[i] << endl;\n",
    "    }\n",
    "}\n",
    "\n",
    "int main() {\n",
    "    int liczby[5] = {1, 2, 5, 7, 9};\n",
    "    wypisz(liczby, 5);\n",
    "    powieksz(liczby, 5);\n",
    "    wypisz(liczby, 5);\n",
    "    return 0;\n",
    "}"
   ]
  },
  {
   "cell_type": "code",
   "execution_count": null,
   "id": "c06a655b-96a6-45fe-93b8-e35a8ca84356",
   "metadata": {},
   "outputs": [],
   "source": []
  }
 ],
 "metadata": {
  "kernelspec": {
   "display_name": "C++14",
   "language": "c++",
   "name": "cpp14"
  },
  "language_info": {
   "file_extension": ".cpp",
   "mimetype": "text/markdown",
   "name": "text/markdown"
  }
 },
 "nbformat": 4,
 "nbformat_minor": 5
}
