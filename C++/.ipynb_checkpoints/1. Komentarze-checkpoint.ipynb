{
 "cells": [
  {
   "cell_type": "markdown",
   "id": "e5078bb5-1152-42ed-8664-b9e2bad5f5f8",
   "metadata": {},
   "source": [
    "<h1><b>Komentarze</b></h1>"
   ]
  },
  {
   "cell_type": "markdown",
   "id": "05cfaf42-2df6-4209-93fd-1231b23bea2a",
   "metadata": {},
   "source": [
    "<h4>Komentarze są ważną częścią dokumentacji kodu. Pozwalają na opisanie fragmentów kodu dzięki czemu wiemy co on robi nawet jeśli wrócimy do niego po dłuższym czasie. W C++ wyrózniamy dwa rodzaje komentarzy: <b><i>jednoliniowe</i></b> i <b><i>wieloliniowe</i></b></h4>"
   ]
  },
  {
   "cell_type": "markdown",
   "id": "80d94624-1e5d-4f31-90f2-fca4b98dd246",
   "metadata": {},
   "source": [
    "<h2><b>1. Komentarz jednoliniowy</b></h2>"
   ]
  },
  {
   "cell_type": "code",
   "execution_count": 1,
   "id": "0df3fbbd-00bf-4e96-84a7-408d7d0cb089",
   "metadata": {},
   "outputs": [
    {
     "data": {
      "text/markdown": [
       "Komentarze\n",
       "\n"
      ]
     },
     "metadata": {},
     "output_type": "display_data"
    }
   ],
   "source": [
    "#include <iostream>\n",
    "using namespace std;\n",
    "\n",
    "int main() {\n",
    "\n",
    "    // wypisywanie na ekran konsoli\n",
    "    cout << \"Komentarze\\n\"; // komentarz\n",
    "\n",
    "    return 0;\n",
    "\n",
    "}"
   ]
  },
  {
   "cell_type": "markdown",
   "id": "62f2cd38-aff7-4481-8d18-5199206b29b5",
   "metadata": {},
   "source": [
    "<h2><b>2. Kometarz wieloliniowy</b></h2>"
   ]
  },
  {
   "cell_type": "code",
   "execution_count": 2,
   "id": "d18c2903-7982-4582-bc1f-0e225b443f6e",
   "metadata": {},
   "outputs": [
    {
     "data": {
      "text/markdown": [
       "Komentarze\n",
       "\n"
      ]
     },
     "metadata": {},
     "output_type": "display_data"
    }
   ],
   "source": [
    "#include <iostream>\n",
    "using namespace std;\n",
    "\n",
    "int main() {\n",
    "\n",
    "    /* komentarz wieloliniowy\n",
    "    linia 1\n",
    "    linia 2\n",
    "    ...\n",
    "    */\n",
    "    cout << \"Komentarze\\n\";\n",
    "\n",
    "    return 0;\n",
    "\n",
    "}"
   ]
  },
  {
   "cell_type": "code",
   "execution_count": null,
   "id": "7120eb4b-f4da-4d1b-8f05-c4ec751abcb6",
   "metadata": {},
   "outputs": [],
   "source": []
  }
 ],
 "metadata": {
  "kernelspec": {
   "display_name": "C++14",
   "language": "c++",
   "name": "cpp14"
  },
  "language_info": {
   "file_extension": ".cpp",
   "mimetype": "text/markdown",
   "name": "text/markdown"
  }
 },
 "nbformat": 4,
 "nbformat_minor": 5
}
