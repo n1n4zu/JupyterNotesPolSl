{
 "cells": [
  {
   "cell_type": "markdown",
   "id": "0bb6d7de-0e83-4536-a10a-cc5f402d1b56",
   "metadata": {},
   "source": [
    "<h1><b>Tablice znakowe</b></h1>"
   ]
  },
  {
   "cell_type": "markdown",
   "id": "0a02f042-853f-4e7d-b2a0-c94fdcd17f90",
   "metadata": {},
   "source": [
    "<h2><b>1. C-string</b></h2>"
   ]
  },
  {
   "cell_type": "markdown",
   "id": "da4e17f4-4d3b-47d8-b0eb-b82512dedaa7",
   "metadata": {},
   "source": [
    "<h4>Ciąg liter zakończony <i>null</i> nazywamy <b>C-stringiem</b>.</h4>"
   ]
  },
  {
   "cell_type": "code",
   "execution_count": 10,
   "id": "b3763813-8373-4663-ae2d-aaca9dabbea2",
   "metadata": {},
   "outputs": [],
   "source": [
    "char rzecz[8] = {\"karta\"}; // C-string\n",
    "char imie[8] = {'j', 'a', 'n', 'u', 's', 'z'}; // C-string\n",
    "char zwierze[] = {\"kot\"}; // C-string\n",
    "char litery[] = {'a', 'b', 'c'}; // Tablica znaków, ale nie C-string"
   ]
  },
  {
   "cell_type": "markdown",
   "id": "767eda25-226d-4cda-8a35-508a23194513",
   "metadata": {},
   "source": [
    "<h2><b>2. Wczytywanie C-stringa z klawiatury</b></h2>"
   ]
  },
  {
   "cell_type": "code",
   "execution_count": 13,
   "id": "a5913fb6-4fbd-4f39-a47d-23b6a5a6641a",
   "metadata": {},
   "outputs": [
    {
     "data": {
      "text/markdown": [
       "Podaj nazwe miasta: "
      ]
     },
     "metadata": {},
     "output_type": "display_data"
    },
    {
     "name": "stdin",
     "output_type": "stream",
     "text": [
      " Katowice\n"
     ]
    },
    {
     "data": {
      "text/markdown": [
       "Katowice\n",
       "\n",
       "K\n",
       "\n",
       "\n",
       "\n",
       "a\n",
       "\n",
       "\n",
       "\n",
       "t\n",
       "\n",
       "\n",
       "\n",
       "o\n",
       "\n",
       "\n",
       "\n",
       "w\n",
       "\n",
       "\n",
       "\n",
       "i\n",
       "\n",
       "\n",
       "\n",
       "c\n",
       "\n",
       "\n",
       "\n",
       "e\n",
       "\n",
       "\n",
       "\n"
      ]
     },
     "metadata": {},
     "output_type": "display_data"
    }
   ],
   "source": [
    "#include <iostream>\n",
    "using namespace std;\n",
    "\n",
    "char nazwaMiasta[30]{};\n",
    "cout << \"Podaj nazwe miasta: \";\n",
    "cin >> nazwaMiasta;\n",
    "cout << nazwaMiasta << endl;\n",
    "\n",
    "int i = 0;\n",
    "while (nazwaMiasta[i] != 0) {\n",
    "    cout << nazwaMiasta[i++] << endl;\n",
    "    cout << endl;\n",
    "}"
   ]
  },
  {
   "cell_type": "raw",
   "id": "6100b74a-3168-4c4a-b20a-c5ea42fb122e",
   "metadata": {},
   "source": [
    "#include <iostream>\n",
    "using namespace std;\n",
    "\n",
    "char nazwaMiasta[30]{};\n",
    "cout << \"Podaj nazwe miasta: \";\n",
    "cin.get(nazwaMiasta, 30);\n",
    "cout << nazwaMiasta << endl;"
   ]
  },
  {
   "cell_type": "raw",
   "id": "21c0ab10-bb0a-43ef-982a-06428e063c7b",
   "metadata": {},
   "source": [
    "#include <iostream>\n",
    "using namespace std;\n",
    "\n",
    "char nazwaMiasta[30]{};\n",
    "cout << \"Podaj nazwe miasta: \";\n",
    "cin.getline(nazwaMiasta, 30);\n",
    "cout << nazwaMiasta << endl;"
   ]
  },
  {
   "cell_type": "markdown",
   "id": "69419648-de31-43e1-b43a-3e18f5ea2cbb",
   "metadata": {},
   "source": [
    "<h2><b>3. Porównanie napisów</b></h2>"
   ]
  },
  {
   "cell_type": "raw",
   "id": "6294b01e-8bbf-4315-be89-64e71e4de932",
   "metadata": {},
   "source": [
    "#include <iostream>\n",
    "using namespace std;\n",
    "\n",
    "char miasto[30]{};\n",
    "miasto = \"Gliwice\"; // Źle\n",
    "char imie1[20] = {\"Karolina\"};\n",
    "char imie2[20] = {\"Agata};\n",
    "\n",
    "if (imie1 == imie2) cout << \"Te same imiona\" << endl; // Źle\n",
    "\n",
    "bool czyRowne(char w1[], char w2[]) {\n",
    "    int i = 0;\n",
    "    while (w1[i] != 0 && w2[i] != 0) {\n",
    "        if (w1[i] != w2[i] return false;\n",
    "        i++;\n",
    "    }\n",
    "    if (w1[i] == 0 && w2[i] == 0) return true;\n",
    "    return false;\n",
    "}"
   ]
  },
  {
   "cell_type": "markdown",
   "id": "5bc66a3d-eec5-4e62-a679-5f4cb6f995d5",
   "metadata": {},
   "source": [
    "<h2><b>4. Biblioteka cstring</b></h2>"
   ]
  },
  {
   "cell_type": "markdown",
   "id": "fbd59620-11d7-451b-8525-74bcabcce1d0",
   "metadata": {},
   "source": [
    "<h4>Biblioteka cstring zawiera przydatne funkcje operujące na tablicach, np. do porównywania czy kopiowania</h4>"
   ]
  },
  {
   "cell_type": "code",
   "execution_count": 2,
   "id": "22862a35-56c0-4a2d-a196-f8d0ae73ef72",
   "metadata": {},
   "outputs": [
    {
     "data": {
      "text/markdown": [
       "Wynik porownania: 0\n",
       "\n",
       "Te same imiona\n",
       "\n"
      ]
     },
     "metadata": {},
     "output_type": "display_data"
    }
   ],
   "source": [
    "#include <iostream>\n",
    "#include <cstring>\n",
    "using namespace std;\n",
    "\n",
    "int main() {\n",
    "    char imie1[] = \"Karolina\";\n",
    "    char imie2[] = \"Karolina\";\n",
    "\n",
    "    cout << \"Wynik porownania: \" << strcmp(imie1, imie2) << endl;\n",
    "\n",
    "    if (strcmp(imie1, imie2) == 0) cout << \"Te same imiona\" << endl;\n",
    "    return 0;\n",
    "}"
   ]
  },
  {
   "cell_type": "code",
   "execution_count": null,
   "id": "14bb5ee8-a063-49eb-b0a8-5de4e7083887",
   "metadata": {},
   "outputs": [],
   "source": []
  }
 ],
 "metadata": {
  "kernelspec": {
   "display_name": "C++14",
   "language": "c++",
   "name": "cpp14"
  },
  "language_info": {
   "file_extension": ".cpp",
   "mimetype": "text/markdown",
   "name": "text/markdown"
  }
 },
 "nbformat": 4,
 "nbformat_minor": 5
}
