{
 "cells": [
  {
   "cell_type": "markdown",
   "id": "3ca15ff7-18f7-41b7-a799-20b549e064f4",
   "metadata": {},
   "source": [
    "<h1><b>Stałe</b></h1>"
   ]
  },
  {
   "cell_type": "markdown",
   "id": "af6169fc-349c-458e-a7bd-169bd4a75c56",
   "metadata": {},
   "source": [
    "<h4>Stałe są zmiennymi o niezmiennych wartościach, tworzymy je poprzez dodanie słowa kluczowego <b><i>const</i></b> przed typem danych stałej. Zgodnie z konwencją nazwy stałych piszemy wielkimi literami.</h4>"
   ]
  },
  {
   "cell_type": "code",
   "execution_count": 1,
   "id": "59be83d0-2e7b-4b5d-a7f9-1b73ba87dcf8",
   "metadata": {},
   "outputs": [],
   "source": [
    "const int DAYS_OF_WEEK = 7;"
   ]
  },
  {
   "cell_type": "code",
   "execution_count": null,
   "id": "a13929e8-a91a-487b-b120-b793b692c071",
   "metadata": {},
   "outputs": [],
   "source": []
  }
 ],
 "metadata": {
  "kernelspec": {
   "display_name": "C++14",
   "language": "c++",
   "name": "cpp14"
  },
  "language_info": {
   "file_extension": ".cpp",
   "mimetype": "text/markdown",
   "name": "text/markdown"
  }
 },
 "nbformat": 4,
 "nbformat_minor": 5
}
