{
 "cells": [
  {
   "cell_type": "markdown",
   "id": "9b9696ee-4bf6-40b4-b385-868061df0a4d",
   "metadata": {},
   "source": [
    "<h1>Pętle</h1>"
   ]
  },
  {
   "cell_type": "markdown",
   "id": "f4dd338f-3a8b-4eec-9b80-2c6b0284e242",
   "metadata": {},
   "source": [
    "<h4>Pętle służą do powtórzenia danego fragmentu kodu określąną ilość razy. Wyróżniamy pętle:\n",
    "<ul>\n",
    "    <li>iteracyjne - wykonują się określoną ilość razy</li>\n",
    "    <li>warunkowe - wykonują się dopóki warunek jest prawdziwy</li>\n",
    "    <li>nieskończone - nigdy nie używane</li>\n",
    "</ul>\n",
    "</h4>"
   ]
  },
  {
   "cell_type": "markdown",
   "id": "fab90f22-1281-4338-8d73-a7fc035a974b",
   "metadata": {},
   "source": [
    "<h2><b>1. Pętla do-while</b></h2>"
   ]
  },
  {
   "cell_type": "markdown",
   "id": "1b3b0702-4392-40bc-832c-7696e33c1ba3",
   "metadata": {},
   "source": [
    "<h4>Pętla do-while jest używana jeśli nie wiemy czy nasz warunek jest od razu prawdziwy, ale chcemy by instrukcja pętli wykonała się chociaż raz.</h4>"
   ]
  },
  {
   "cell_type": "raw",
   "id": "16f966d8-4ae8-4266-a259-0e663ff73380",
   "metadata": {},
   "source": [
    "do\n",
    "    instrukcja;\n",
    "while (warunek);\n",
    "\n",
    "do {\n",
    "    blok instrukcji\n",
    "} while (warunek);"
   ]
  },
  {
   "cell_type": "code",
   "execution_count": 1,
   "id": "eb621123-c622-4039-a0a4-560a1299bce3",
   "metadata": {},
   "outputs": [
    {
     "data": {
      "text/markdown": [
       "0 1 2 3 4 5 6 7 8 9 10 "
      ]
     },
     "metadata": {},
     "output_type": "display_data"
    }
   ],
   "source": [
    "// Przykład 1\n",
    "#include <iostream>\n",
    "using namespace std;\n",
    "\n",
    "int i = 0, max_iter = 10;\n",
    "do\n",
    "    cout << i << \" \";\n",
    "while (i++ < max_iter);"
   ]
  },
  {
   "cell_type": "code",
   "execution_count": 2,
   "id": "39be4e7f-6f23-492f-bbc4-43ffb89c13d7",
   "metadata": {},
   "outputs": [
    {
     "data": {
      "text/markdown": [
       "0 "
      ]
     },
     "metadata": {},
     "output_type": "display_data"
    }
   ],
   "source": [
    "// Przykład 2\n",
    "#include <iostream>\n",
    "using namespace std;\n",
    "\n",
    "int i = 0;\n",
    "do{\n",
    "    cout << i << \" \";\n",
    "    i -= 2;\n",
    "}\n",
    "while (i > 0);"
   ]
  },
  {
   "cell_type": "markdown",
   "id": "d794bb6c-21eb-4780-a39d-9f783af35082",
   "metadata": {},
   "source": [
    "<h2><b>2. Pętla while</b></h2>"
   ]
  },
  {
   "cell_type": "markdown",
   "id": "fd3e57ad-d540-4808-92b8-0d1ae91004cf",
   "metadata": {},
   "source": [
    "<h4>Pętla while jest wykorzystywana, gdy chcemy wykonywać pewny fragment kodu tak długo jak jest prawdziwy warunek, ale w przeciwieństwie do pętli <b><i>do-while</i></b> \n",
    "pętla nie wykona się ani razu jeśli warunek jest od razu fałszywy.</h4>"
   ]
  },
  {
   "cell_type": "raw",
   "id": "3acfd34b-082d-4e7c-83f1-bb4070e2452b",
   "metadata": {},
   "source": [
    "while (warunek)\n",
    "    instrukcja;\n",
    "\n",
    "while (warunek) {\n",
    "    blok instruckji\n",
    "}"
   ]
  },
  {
   "cell_type": "code",
   "execution_count": 3,
   "id": "99994293-be07-490f-9794-4d54b878b3de",
   "metadata": {},
   "outputs": [
    {
     "data": {
      "text/markdown": [
       "1 2 3 4 5 6 7 8 9 10 \n",
       "\n",
       "11"
      ]
     },
     "metadata": {},
     "output_type": "display_data"
    },
    {
     "data": {
      "text/markdown": [
       " 9 7 5 3 1 "
      ]
     },
     "metadata": {},
     "output_type": "display_data"
    }
   ],
   "source": [
    "#include <iostream>\n",
    "using namespace std;\n",
    "\n",
    "int i = 0, max_iter = 10;\n",
    "while (i++ < max_iter) cout << i << \" \";\n",
    "cout << endl;\n",
    "while (i > 0) {\n",
    "    cout << i << \" \";\n",
    "    i -= 2;\n",
    "}"
   ]
  },
  {
   "cell_type": "markdown",
   "id": "033e3322-1e4b-4af2-b131-a869c80905a7",
   "metadata": {},
   "source": [
    "<h2><b>3. Pętla for</b></h2>"
   ]
  },
  {
   "cell_type": "markdown",
   "id": "1e36a8d5-e549-4c47-b683-20db1b425622",
   "metadata": {},
   "source": [
    "<h4>Pętla for jest używana, gdy chcemy by dany fragment kodu był wykonany określoną ilość razy.</h4>"
   ]
  },
  {
   "cell_type": "raw",
   "id": "f8cc8ca6-c1bb-4f3e-83dd-186ea8b05bb8",
   "metadata": {},
   "source": [
    "for (instr_inicjalizujaca; warunek; instr_kroku)\n",
    "    instrukcja;\n",
    "\n",
    "for (instr_inicjalizujaca; warunek; instr_kroku) {\n",
    "    blok instrukcji\n",
    "}"
   ]
  },
  {
   "cell_type": "code",
   "execution_count": 4,
   "id": "93a4cd0f-7bda-435f-be50-2c8498b80878",
   "metadata": {},
   "outputs": [
    {
     "data": {
      "text/markdown": [
       "5! = 120"
      ]
     },
     "metadata": {},
     "output_type": "display_data"
    }
   ],
   "source": [
    "#include <iostream>\n",
    "using namespace std;\n",
    "\n",
    "int silnia = 1, n = 5;\n",
    "for (int i = 2; i <= n; i++) silnia *= i;\n",
    "cout << n << \"! = \" << silnia;"
   ]
  },
  {
   "cell_type": "markdown",
   "id": "5e729436-31e6-4316-9571-1ec58208cd67",
   "metadata": {},
   "source": [
    "<h2><b>4. Instrukcja break</b></h2>"
   ]
  },
  {
   "cell_type": "markdown",
   "id": "c98b2b46-aa23-4aa8-8736-bacb85cc5f85",
   "metadata": {},
   "source": [
    "<h4>Instrukcja break służy do natychmiastowego wyjścia z pętli.</h4>"
   ]
  },
  {
   "cell_type": "code",
   "execution_count": 5,
   "id": "4c40ec88-10df-4764-8b73-cf9fede9bf24",
   "metadata": {},
   "outputs": [
    {
     "data": {
      "text/markdown": [
       "0 1 2 3 4 5 6 7 8 9 10 11 12 \n",
       "\n",
       "Wyjście z pętli"
      ]
     },
     "metadata": {},
     "output_type": "display_data"
    }
   ],
   "source": [
    "#include <iostream>\n",
    "using namespace std;\n",
    "\n",
    "int a = 100;\n",
    "for (int i = 0; i <= a; i++) {\n",
    "    if (i == 13) {\n",
    "        cout << endl << \"Wyjście z pętli\";\n",
    "        break;\n",
    "    }\n",
    "    cout << i << \" \";\n",
    "}"
   ]
  },
  {
   "cell_type": "markdown",
   "id": "7a02eb16-6823-4d7b-9f25-f45be22fb8f4",
   "metadata": {},
   "source": [
    "<h2><b>5. Instrukcja continue</b></h2>"
   ]
  },
  {
   "cell_type": "markdown",
   "id": "4f970c8d-90bd-490d-ae07-5338599724a5",
   "metadata": {},
   "source": [
    "<h4>Instrukcja continue służy do pominięcia danej iteracji pętli.</h4>"
   ]
  },
  {
   "cell_type": "code",
   "execution_count": 6,
   "id": "25b864fd-33ea-4e13-a77d-7d5ac10a27c2",
   "metadata": {},
   "outputs": [
    {
     "data": {
      "text/markdown": [
       "\n",
       "\n",
       "pominięcie iteracji\n",
       "\n",
       "1 \n",
       "\n",
       "pominięcie iteracji\n",
       "\n",
       "3 \n",
       "\n",
       "pominięcie iteracji\n",
       "\n",
       "5 \n",
       "\n",
       "pominięcie iteracji\n",
       "\n",
       "7 \n",
       "\n",
       "pominięcie iteracji\n",
       "\n",
       "9 \n",
       "\n",
       "pominięcie iteracji\n",
       "\n",
       "11 \n",
       "\n",
       "pominięcie iteracji\n",
       "\n",
       "13 \n",
       "\n",
       "pominięcie iteracji\n",
       "\n",
       "15 "
      ]
     },
     "metadata": {},
     "output_type": "display_data"
    }
   ],
   "source": [
    "#include <iostream>\n",
    "using namespace std;\n",
    "\n",
    "int a = 15;\n",
    "for (int i = 0; i <= a; i++) {\n",
    "    if (i % 2 == 0) {\n",
    "        cout << endl << \"pominięcie iteracji\" << endl;\n",
    "        continue;\n",
    "    }\n",
    "    cout << i << \" \";\n",
    "}"
   ]
  },
  {
   "cell_type": "code",
   "execution_count": null,
   "id": "f8523465-c5cd-49c4-97be-ab1dca5c486f",
   "metadata": {},
   "outputs": [],
   "source": []
  }
 ],
 "metadata": {
  "kernelspec": {
   "display_name": "C++14",
   "language": "c++",
   "name": "cpp14"
  },
  "language_info": {
   "file_extension": ".cpp",
   "mimetype": "text/markdown",
   "name": "text/markdown"
  }
 },
 "nbformat": 4,
 "nbformat_minor": 5
}
