{
 "cells": [
  {
   "cell_type": "markdown",
   "id": "8b221b98-b4c7-497f-944e-a2fc40bc0651",
   "metadata": {},
   "source": [
    "<h1><b>Referencja</b></h1>"
   ]
  },
  {
   "cell_type": "markdown",
   "id": "30ea9fef-f9f8-41b5-ad33-08ebd24a3dac",
   "metadata": {},
   "source": [
    "<h4>Referencja jest odwołaniem do istniejącej już zmiennej.</h4>"
   ]
  },
  {
   "cell_type": "code",
   "execution_count": 2,
   "id": "86be0da6-6e1c-4557-b481-ddcf74f8c3fa",
   "metadata": {},
   "outputs": [
    {
     "data": {
      "text/markdown": [
       "1\n",
       "\n",
       "2\n",
       "\n",
       "3\n",
       "\n",
       "4\n",
       "\n",
       "5\n",
       "\n",
       "6\n",
       "\n",
       "7\n",
       "\n",
       "8\n",
       "\n",
       "9\n",
       "\n",
       "10\n",
       "\n",
       "11\n",
       "\n",
       "12\n",
       "\n",
       "13\n",
       "\n",
       "14\n",
       "\n",
       "15\n",
       "\n",
       "16\n",
       "\n",
       "17\n",
       "\n",
       "18\n",
       "\n",
       "19\n",
       "\n",
       "20\n",
       "\n"
      ]
     },
     "metadata": {},
     "output_type": "display_data"
    }
   ],
   "source": [
    "#include <iostream>\n",
    "\n",
    "using namespace std;\n",
    "\n",
    "void zwieksz (int &licznik) { // &licznik jest adresem do zmiennej\n",
    "    licznik++;\n",
    "}\n",
    "\n",
    "int main () {\n",
    "    int ilosc = 0;\n",
    "    for (int i = 0; i < 20; i++) {\n",
    "        zwieksz(ilosc);\n",
    "        cout << ilosc << endl;\n",
    "    }\n",
    "    return 0;\n",
    "}"
   ]
  },
  {
   "cell_type": "code",
   "execution_count": null,
   "id": "cfbcd5ef-1957-4abc-9169-0c8080cd7c8c",
   "metadata": {},
   "outputs": [],
   "source": []
  }
 ],
 "metadata": {
  "kernelspec": {
   "display_name": "C++14",
   "language": "c++",
   "name": "cpp14"
  },
  "language_info": {
   "file_extension": ".cpp",
   "mimetype": "text/markdown",
   "name": "text/markdown"
  }
 },
 "nbformat": 4,
 "nbformat_minor": 5
}
